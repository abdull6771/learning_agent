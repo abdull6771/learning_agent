{
  "cells": [
    {
      "cell_type": "code",
      "execution_count": 1,
      "metadata": {
        "colab": {
          "base_uri": "https://localhost:8080/"
        },
        "id": "5ApRW-rbUcdv",
        "outputId": "75082f23-4536-48d2-9977-daa623ad77bb"
      },
      "outputs": [
        {
          "output_type": "stream",
          "name": "stdout",
          "text": [
            "Collecting langgraph\n",
            "  Downloading langgraph-0.2.74-py3-none-any.whl.metadata (17 kB)\n",
            "Requirement already satisfied: langchain-core!=0.3.0,!=0.3.1,!=0.3.10,!=0.3.11,!=0.3.12,!=0.3.13,!=0.3.14,!=0.3.15,!=0.3.16,!=0.3.17,!=0.3.18,!=0.3.19,!=0.3.2,!=0.3.20,!=0.3.21,!=0.3.22,!=0.3.3,!=0.3.4,!=0.3.5,!=0.3.6,!=0.3.7,!=0.3.8,!=0.3.9,<0.4.0,>=0.2.43 in /usr/local/lib/python3.11/dist-packages (from langgraph) (0.3.37)\n",
            "Collecting langgraph-checkpoint<3.0.0,>=2.0.10 (from langgraph)\n",
            "  Downloading langgraph_checkpoint-2.0.16-py3-none-any.whl.metadata (4.6 kB)\n",
            "Collecting langgraph-sdk<0.2.0,>=0.1.42 (from langgraph)\n",
            "  Downloading langgraph_sdk-0.1.53-py3-none-any.whl.metadata (1.8 kB)\n",
            "Requirement already satisfied: langsmith<0.4,>=0.1.125 in /usr/local/lib/python3.11/dist-packages (from langchain-core!=0.3.0,!=0.3.1,!=0.3.10,!=0.3.11,!=0.3.12,!=0.3.13,!=0.3.14,!=0.3.15,!=0.3.16,!=0.3.17,!=0.3.18,!=0.3.19,!=0.3.2,!=0.3.20,!=0.3.21,!=0.3.22,!=0.3.3,!=0.3.4,!=0.3.5,!=0.3.6,!=0.3.7,!=0.3.8,!=0.3.9,<0.4.0,>=0.2.43->langgraph) (0.3.8)\n",
            "Requirement already satisfied: tenacity!=8.4.0,<10.0.0,>=8.1.0 in /usr/local/lib/python3.11/dist-packages (from langchain-core!=0.3.0,!=0.3.1,!=0.3.10,!=0.3.11,!=0.3.12,!=0.3.13,!=0.3.14,!=0.3.15,!=0.3.16,!=0.3.17,!=0.3.18,!=0.3.19,!=0.3.2,!=0.3.20,!=0.3.21,!=0.3.22,!=0.3.3,!=0.3.4,!=0.3.5,!=0.3.6,!=0.3.7,!=0.3.8,!=0.3.9,<0.4.0,>=0.2.43->langgraph) (9.0.0)\n",
            "Requirement already satisfied: jsonpatch<2.0,>=1.33 in /usr/local/lib/python3.11/dist-packages (from langchain-core!=0.3.0,!=0.3.1,!=0.3.10,!=0.3.11,!=0.3.12,!=0.3.13,!=0.3.14,!=0.3.15,!=0.3.16,!=0.3.17,!=0.3.18,!=0.3.19,!=0.3.2,!=0.3.20,!=0.3.21,!=0.3.22,!=0.3.3,!=0.3.4,!=0.3.5,!=0.3.6,!=0.3.7,!=0.3.8,!=0.3.9,<0.4.0,>=0.2.43->langgraph) (1.33)\n",
            "Requirement already satisfied: PyYAML>=5.3 in /usr/local/lib/python3.11/dist-packages (from langchain-core!=0.3.0,!=0.3.1,!=0.3.10,!=0.3.11,!=0.3.12,!=0.3.13,!=0.3.14,!=0.3.15,!=0.3.16,!=0.3.17,!=0.3.18,!=0.3.19,!=0.3.2,!=0.3.20,!=0.3.21,!=0.3.22,!=0.3.3,!=0.3.4,!=0.3.5,!=0.3.6,!=0.3.7,!=0.3.8,!=0.3.9,<0.4.0,>=0.2.43->langgraph) (6.0.2)\n",
            "Requirement already satisfied: packaging<25,>=23.2 in /usr/local/lib/python3.11/dist-packages (from langchain-core!=0.3.0,!=0.3.1,!=0.3.10,!=0.3.11,!=0.3.12,!=0.3.13,!=0.3.14,!=0.3.15,!=0.3.16,!=0.3.17,!=0.3.18,!=0.3.19,!=0.3.2,!=0.3.20,!=0.3.21,!=0.3.22,!=0.3.3,!=0.3.4,!=0.3.5,!=0.3.6,!=0.3.7,!=0.3.8,!=0.3.9,<0.4.0,>=0.2.43->langgraph) (24.2)\n",
            "Requirement already satisfied: typing-extensions>=4.7 in /usr/local/lib/python3.11/dist-packages (from langchain-core!=0.3.0,!=0.3.1,!=0.3.10,!=0.3.11,!=0.3.12,!=0.3.13,!=0.3.14,!=0.3.15,!=0.3.16,!=0.3.17,!=0.3.18,!=0.3.19,!=0.3.2,!=0.3.20,!=0.3.21,!=0.3.22,!=0.3.3,!=0.3.4,!=0.3.5,!=0.3.6,!=0.3.7,!=0.3.8,!=0.3.9,<0.4.0,>=0.2.43->langgraph) (4.12.2)\n",
            "Requirement already satisfied: pydantic<3.0.0,>=2.5.2 in /usr/local/lib/python3.11/dist-packages (from langchain-core!=0.3.0,!=0.3.1,!=0.3.10,!=0.3.11,!=0.3.12,!=0.3.13,!=0.3.14,!=0.3.15,!=0.3.16,!=0.3.17,!=0.3.18,!=0.3.19,!=0.3.2,!=0.3.20,!=0.3.21,!=0.3.22,!=0.3.3,!=0.3.4,!=0.3.5,!=0.3.6,!=0.3.7,!=0.3.8,!=0.3.9,<0.4.0,>=0.2.43->langgraph) (2.10.6)\n",
            "Requirement already satisfied: msgpack<2.0.0,>=1.1.0 in /usr/local/lib/python3.11/dist-packages (from langgraph-checkpoint<3.0.0,>=2.0.10->langgraph) (1.1.0)\n",
            "Requirement already satisfied: httpx>=0.25.2 in /usr/local/lib/python3.11/dist-packages (from langgraph-sdk<0.2.0,>=0.1.42->langgraph) (0.28.1)\n",
            "Requirement already satisfied: orjson>=3.10.1 in /usr/local/lib/python3.11/dist-packages (from langgraph-sdk<0.2.0,>=0.1.42->langgraph) (3.10.15)\n",
            "Requirement already satisfied: anyio in /usr/local/lib/python3.11/dist-packages (from httpx>=0.25.2->langgraph-sdk<0.2.0,>=0.1.42->langgraph) (3.7.1)\n",
            "Requirement already satisfied: certifi in /usr/local/lib/python3.11/dist-packages (from httpx>=0.25.2->langgraph-sdk<0.2.0,>=0.1.42->langgraph) (2025.1.31)\n",
            "Requirement already satisfied: httpcore==1.* in /usr/local/lib/python3.11/dist-packages (from httpx>=0.25.2->langgraph-sdk<0.2.0,>=0.1.42->langgraph) (1.0.7)\n",
            "Requirement already satisfied: idna in /usr/local/lib/python3.11/dist-packages (from httpx>=0.25.2->langgraph-sdk<0.2.0,>=0.1.42->langgraph) (3.10)\n",
            "Requirement already satisfied: h11<0.15,>=0.13 in /usr/local/lib/python3.11/dist-packages (from httpcore==1.*->httpx>=0.25.2->langgraph-sdk<0.2.0,>=0.1.42->langgraph) (0.14.0)\n",
            "Requirement already satisfied: jsonpointer>=1.9 in /usr/local/lib/python3.11/dist-packages (from jsonpatch<2.0,>=1.33->langchain-core!=0.3.0,!=0.3.1,!=0.3.10,!=0.3.11,!=0.3.12,!=0.3.13,!=0.3.14,!=0.3.15,!=0.3.16,!=0.3.17,!=0.3.18,!=0.3.19,!=0.3.2,!=0.3.20,!=0.3.21,!=0.3.22,!=0.3.3,!=0.3.4,!=0.3.5,!=0.3.6,!=0.3.7,!=0.3.8,!=0.3.9,<0.4.0,>=0.2.43->langgraph) (3.0.0)\n",
            "Requirement already satisfied: requests<3,>=2 in /usr/local/lib/python3.11/dist-packages (from langsmith<0.4,>=0.1.125->langchain-core!=0.3.0,!=0.3.1,!=0.3.10,!=0.3.11,!=0.3.12,!=0.3.13,!=0.3.14,!=0.3.15,!=0.3.16,!=0.3.17,!=0.3.18,!=0.3.19,!=0.3.2,!=0.3.20,!=0.3.21,!=0.3.22,!=0.3.3,!=0.3.4,!=0.3.5,!=0.3.6,!=0.3.7,!=0.3.8,!=0.3.9,<0.4.0,>=0.2.43->langgraph) (2.32.3)\n",
            "Requirement already satisfied: requests-toolbelt<2.0.0,>=1.0.0 in /usr/local/lib/python3.11/dist-packages (from langsmith<0.4,>=0.1.125->langchain-core!=0.3.0,!=0.3.1,!=0.3.10,!=0.3.11,!=0.3.12,!=0.3.13,!=0.3.14,!=0.3.15,!=0.3.16,!=0.3.17,!=0.3.18,!=0.3.19,!=0.3.2,!=0.3.20,!=0.3.21,!=0.3.22,!=0.3.3,!=0.3.4,!=0.3.5,!=0.3.6,!=0.3.7,!=0.3.8,!=0.3.9,<0.4.0,>=0.2.43->langgraph) (1.0.0)\n",
            "Requirement already satisfied: zstandard<0.24.0,>=0.23.0 in /usr/local/lib/python3.11/dist-packages (from langsmith<0.4,>=0.1.125->langchain-core!=0.3.0,!=0.3.1,!=0.3.10,!=0.3.11,!=0.3.12,!=0.3.13,!=0.3.14,!=0.3.15,!=0.3.16,!=0.3.17,!=0.3.18,!=0.3.19,!=0.3.2,!=0.3.20,!=0.3.21,!=0.3.22,!=0.3.3,!=0.3.4,!=0.3.5,!=0.3.6,!=0.3.7,!=0.3.8,!=0.3.9,<0.4.0,>=0.2.43->langgraph) (0.23.0)\n",
            "Requirement already satisfied: annotated-types>=0.6.0 in /usr/local/lib/python3.11/dist-packages (from pydantic<3.0.0,>=2.5.2->langchain-core!=0.3.0,!=0.3.1,!=0.3.10,!=0.3.11,!=0.3.12,!=0.3.13,!=0.3.14,!=0.3.15,!=0.3.16,!=0.3.17,!=0.3.18,!=0.3.19,!=0.3.2,!=0.3.20,!=0.3.21,!=0.3.22,!=0.3.3,!=0.3.4,!=0.3.5,!=0.3.6,!=0.3.7,!=0.3.8,!=0.3.9,<0.4.0,>=0.2.43->langgraph) (0.7.0)\n",
            "Requirement already satisfied: pydantic-core==2.27.2 in /usr/local/lib/python3.11/dist-packages (from pydantic<3.0.0,>=2.5.2->langchain-core!=0.3.0,!=0.3.1,!=0.3.10,!=0.3.11,!=0.3.12,!=0.3.13,!=0.3.14,!=0.3.15,!=0.3.16,!=0.3.17,!=0.3.18,!=0.3.19,!=0.3.2,!=0.3.20,!=0.3.21,!=0.3.22,!=0.3.3,!=0.3.4,!=0.3.5,!=0.3.6,!=0.3.7,!=0.3.8,!=0.3.9,<0.4.0,>=0.2.43->langgraph) (2.27.2)\n",
            "Requirement already satisfied: charset-normalizer<4,>=2 in /usr/local/lib/python3.11/dist-packages (from requests<3,>=2->langsmith<0.4,>=0.1.125->langchain-core!=0.3.0,!=0.3.1,!=0.3.10,!=0.3.11,!=0.3.12,!=0.3.13,!=0.3.14,!=0.3.15,!=0.3.16,!=0.3.17,!=0.3.18,!=0.3.19,!=0.3.2,!=0.3.20,!=0.3.21,!=0.3.22,!=0.3.3,!=0.3.4,!=0.3.5,!=0.3.6,!=0.3.7,!=0.3.8,!=0.3.9,<0.4.0,>=0.2.43->langgraph) (3.4.1)\n",
            "Requirement already satisfied: urllib3<3,>=1.21.1 in /usr/local/lib/python3.11/dist-packages (from requests<3,>=2->langsmith<0.4,>=0.1.125->langchain-core!=0.3.0,!=0.3.1,!=0.3.10,!=0.3.11,!=0.3.12,!=0.3.13,!=0.3.14,!=0.3.15,!=0.3.16,!=0.3.17,!=0.3.18,!=0.3.19,!=0.3.2,!=0.3.20,!=0.3.21,!=0.3.22,!=0.3.3,!=0.3.4,!=0.3.5,!=0.3.6,!=0.3.7,!=0.3.8,!=0.3.9,<0.4.0,>=0.2.43->langgraph) (2.3.0)\n",
            "Requirement already satisfied: sniffio>=1.1 in /usr/local/lib/python3.11/dist-packages (from anyio->httpx>=0.25.2->langgraph-sdk<0.2.0,>=0.1.42->langgraph) (1.3.1)\n",
            "Downloading langgraph-0.2.74-py3-none-any.whl (151 kB)\n",
            "\u001b[2K   \u001b[90m━━━━━━━━━━━━━━━━━━━━━━━━━━━━━━━━━━━━━━━━\u001b[0m \u001b[32m151.4/151.4 kB\u001b[0m \u001b[31m5.5 MB/s\u001b[0m eta \u001b[36m0:00:00\u001b[0m\n",
            "\u001b[?25hDownloading langgraph_checkpoint-2.0.16-py3-none-any.whl (38 kB)\n",
            "Downloading langgraph_sdk-0.1.53-py3-none-any.whl (45 kB)\n",
            "\u001b[2K   \u001b[90m━━━━━━━━━━━━━━━━━━━━━━━━━━━━━━━━━━━━━━━━\u001b[0m \u001b[32m45.4/45.4 kB\u001b[0m \u001b[31m2.9 MB/s\u001b[0m eta \u001b[36m0:00:00\u001b[0m\n",
            "\u001b[?25hInstalling collected packages: langgraph-sdk, langgraph-checkpoint, langgraph\n",
            "Successfully installed langgraph-0.2.74 langgraph-checkpoint-2.0.16 langgraph-sdk-0.1.53\n"
          ]
        }
      ],
      "source": [
        "!pip install langgraph"
      ]
    },
    {
      "cell_type": "code",
      "execution_count": 2,
      "metadata": {
        "colab": {
          "base_uri": "https://localhost:8080/"
        },
        "id": "yGB5sZWdVGWr",
        "outputId": "31e33730-b1f7-4512-8713-cd9f06022350"
      },
      "outputs": [
        {
          "output_type": "stream",
          "name": "stdout",
          "text": [
            "Collecting langchain_openai\n",
            "  Downloading langchain_openai-0.3.6-py3-none-any.whl.metadata (2.3 kB)\n",
            "Requirement already satisfied: langchain-core<1.0.0,>=0.3.35 in /usr/local/lib/python3.11/dist-packages (from langchain_openai) (0.3.37)\n",
            "Requirement already satisfied: openai<2.0.0,>=1.58.1 in /usr/local/lib/python3.11/dist-packages (from langchain_openai) (1.61.1)\n",
            "Collecting tiktoken<1,>=0.7 (from langchain_openai)\n",
            "  Downloading tiktoken-0.9.0-cp311-cp311-manylinux_2_17_x86_64.manylinux2014_x86_64.whl.metadata (6.7 kB)\n",
            "Requirement already satisfied: langsmith<0.4,>=0.1.125 in /usr/local/lib/python3.11/dist-packages (from langchain-core<1.0.0,>=0.3.35->langchain_openai) (0.3.8)\n",
            "Requirement already satisfied: tenacity!=8.4.0,<10.0.0,>=8.1.0 in /usr/local/lib/python3.11/dist-packages (from langchain-core<1.0.0,>=0.3.35->langchain_openai) (9.0.0)\n",
            "Requirement already satisfied: jsonpatch<2.0,>=1.33 in /usr/local/lib/python3.11/dist-packages (from langchain-core<1.0.0,>=0.3.35->langchain_openai) (1.33)\n",
            "Requirement already satisfied: PyYAML>=5.3 in /usr/local/lib/python3.11/dist-packages (from langchain-core<1.0.0,>=0.3.35->langchain_openai) (6.0.2)\n",
            "Requirement already satisfied: packaging<25,>=23.2 in /usr/local/lib/python3.11/dist-packages (from langchain-core<1.0.0,>=0.3.35->langchain_openai) (24.2)\n",
            "Requirement already satisfied: typing-extensions>=4.7 in /usr/local/lib/python3.11/dist-packages (from langchain-core<1.0.0,>=0.3.35->langchain_openai) (4.12.2)\n",
            "Requirement already satisfied: pydantic<3.0.0,>=2.5.2 in /usr/local/lib/python3.11/dist-packages (from langchain-core<1.0.0,>=0.3.35->langchain_openai) (2.10.6)\n",
            "Requirement already satisfied: anyio<5,>=3.5.0 in /usr/local/lib/python3.11/dist-packages (from openai<2.0.0,>=1.58.1->langchain_openai) (3.7.1)\n",
            "Requirement already satisfied: distro<2,>=1.7.0 in /usr/local/lib/python3.11/dist-packages (from openai<2.0.0,>=1.58.1->langchain_openai) (1.9.0)\n",
            "Requirement already satisfied: httpx<1,>=0.23.0 in /usr/local/lib/python3.11/dist-packages (from openai<2.0.0,>=1.58.1->langchain_openai) (0.28.1)\n",
            "Requirement already satisfied: jiter<1,>=0.4.0 in /usr/local/lib/python3.11/dist-packages (from openai<2.0.0,>=1.58.1->langchain_openai) (0.8.2)\n",
            "Requirement already satisfied: sniffio in /usr/local/lib/python3.11/dist-packages (from openai<2.0.0,>=1.58.1->langchain_openai) (1.3.1)\n",
            "Requirement already satisfied: tqdm>4 in /usr/local/lib/python3.11/dist-packages (from openai<2.0.0,>=1.58.1->langchain_openai) (4.67.1)\n",
            "Requirement already satisfied: regex>=2022.1.18 in /usr/local/lib/python3.11/dist-packages (from tiktoken<1,>=0.7->langchain_openai) (2024.11.6)\n",
            "Requirement already satisfied: requests>=2.26.0 in /usr/local/lib/python3.11/dist-packages (from tiktoken<1,>=0.7->langchain_openai) (2.32.3)\n",
            "Requirement already satisfied: idna>=2.8 in /usr/local/lib/python3.11/dist-packages (from anyio<5,>=3.5.0->openai<2.0.0,>=1.58.1->langchain_openai) (3.10)\n",
            "Requirement already satisfied: certifi in /usr/local/lib/python3.11/dist-packages (from httpx<1,>=0.23.0->openai<2.0.0,>=1.58.1->langchain_openai) (2025.1.31)\n",
            "Requirement already satisfied: httpcore==1.* in /usr/local/lib/python3.11/dist-packages (from httpx<1,>=0.23.0->openai<2.0.0,>=1.58.1->langchain_openai) (1.0.7)\n",
            "Requirement already satisfied: h11<0.15,>=0.13 in /usr/local/lib/python3.11/dist-packages (from httpcore==1.*->httpx<1,>=0.23.0->openai<2.0.0,>=1.58.1->langchain_openai) (0.14.0)\n",
            "Requirement already satisfied: jsonpointer>=1.9 in /usr/local/lib/python3.11/dist-packages (from jsonpatch<2.0,>=1.33->langchain-core<1.0.0,>=0.3.35->langchain_openai) (3.0.0)\n",
            "Requirement already satisfied: orjson<4.0.0,>=3.9.14 in /usr/local/lib/python3.11/dist-packages (from langsmith<0.4,>=0.1.125->langchain-core<1.0.0,>=0.3.35->langchain_openai) (3.10.15)\n",
            "Requirement already satisfied: requests-toolbelt<2.0.0,>=1.0.0 in /usr/local/lib/python3.11/dist-packages (from langsmith<0.4,>=0.1.125->langchain-core<1.0.0,>=0.3.35->langchain_openai) (1.0.0)\n",
            "Requirement already satisfied: zstandard<0.24.0,>=0.23.0 in /usr/local/lib/python3.11/dist-packages (from langsmith<0.4,>=0.1.125->langchain-core<1.0.0,>=0.3.35->langchain_openai) (0.23.0)\n",
            "Requirement already satisfied: annotated-types>=0.6.0 in /usr/local/lib/python3.11/dist-packages (from pydantic<3.0.0,>=2.5.2->langchain-core<1.0.0,>=0.3.35->langchain_openai) (0.7.0)\n",
            "Requirement already satisfied: pydantic-core==2.27.2 in /usr/local/lib/python3.11/dist-packages (from pydantic<3.0.0,>=2.5.2->langchain-core<1.0.0,>=0.3.35->langchain_openai) (2.27.2)\n",
            "Requirement already satisfied: charset-normalizer<4,>=2 in /usr/local/lib/python3.11/dist-packages (from requests>=2.26.0->tiktoken<1,>=0.7->langchain_openai) (3.4.1)\n",
            "Requirement already satisfied: urllib3<3,>=1.21.1 in /usr/local/lib/python3.11/dist-packages (from requests>=2.26.0->tiktoken<1,>=0.7->langchain_openai) (2.3.0)\n",
            "Downloading langchain_openai-0.3.6-py3-none-any.whl (54 kB)\n",
            "\u001b[2K   \u001b[90m━━━━━━━━━━━━━━━━━━━━━━━━━━━━━━━━━━━━━━━━\u001b[0m \u001b[32m54.9/54.9 kB\u001b[0m \u001b[31m2.2 MB/s\u001b[0m eta \u001b[36m0:00:00\u001b[0m\n",
            "\u001b[?25hDownloading tiktoken-0.9.0-cp311-cp311-manylinux_2_17_x86_64.manylinux2014_x86_64.whl (1.2 MB)\n",
            "\u001b[2K   \u001b[90m━━━━━━━━━━━━━━━━━━━━━━━━━━━━━━━━━━━━━━━━\u001b[0m \u001b[32m1.2/1.2 MB\u001b[0m \u001b[31m21.1 MB/s\u001b[0m eta \u001b[36m0:00:00\u001b[0m\n",
            "\u001b[?25hInstalling collected packages: tiktoken, langchain_openai\n",
            "Successfully installed langchain_openai-0.3.6 tiktoken-0.9.0\n"
          ]
        }
      ],
      "source": [
        "!pip install langchain_openai"
      ]
    },
    {
      "cell_type": "code",
      "execution_count": 3,
      "metadata": {
        "colab": {
          "base_uri": "https://localhost:8080/"
        },
        "id": "cWPtvi6dWABg",
        "outputId": "e20c24f7-e51c-49f4-99db-f29fcf99f658"
      },
      "outputs": [
        {
          "output_type": "stream",
          "name": "stdout",
          "text": [
            "Requirement already satisfied: langgraph in /usr/local/lib/python3.11/dist-packages (0.2.74)\n",
            "Requirement already satisfied: openai in /usr/local/lib/python3.11/dist-packages (1.61.1)\n",
            "Requirement already satisfied: langchain-core!=0.3.0,!=0.3.1,!=0.3.10,!=0.3.11,!=0.3.12,!=0.3.13,!=0.3.14,!=0.3.15,!=0.3.16,!=0.3.17,!=0.3.18,!=0.3.19,!=0.3.2,!=0.3.20,!=0.3.21,!=0.3.22,!=0.3.3,!=0.3.4,!=0.3.5,!=0.3.6,!=0.3.7,!=0.3.8,!=0.3.9,<0.4.0,>=0.2.43 in /usr/local/lib/python3.11/dist-packages (from langgraph) (0.3.37)\n",
            "Requirement already satisfied: langgraph-checkpoint<3.0.0,>=2.0.10 in /usr/local/lib/python3.11/dist-packages (from langgraph) (2.0.16)\n",
            "Requirement already satisfied: langgraph-sdk<0.2.0,>=0.1.42 in /usr/local/lib/python3.11/dist-packages (from langgraph) (0.1.53)\n",
            "Requirement already satisfied: anyio<5,>=3.5.0 in /usr/local/lib/python3.11/dist-packages (from openai) (3.7.1)\n",
            "Requirement already satisfied: distro<2,>=1.7.0 in /usr/local/lib/python3.11/dist-packages (from openai) (1.9.0)\n",
            "Requirement already satisfied: httpx<1,>=0.23.0 in /usr/local/lib/python3.11/dist-packages (from openai) (0.28.1)\n",
            "Requirement already satisfied: jiter<1,>=0.4.0 in /usr/local/lib/python3.11/dist-packages (from openai) (0.8.2)\n",
            "Requirement already satisfied: pydantic<3,>=1.9.0 in /usr/local/lib/python3.11/dist-packages (from openai) (2.10.6)\n",
            "Requirement already satisfied: sniffio in /usr/local/lib/python3.11/dist-packages (from openai) (1.3.1)\n",
            "Requirement already satisfied: tqdm>4 in /usr/local/lib/python3.11/dist-packages (from openai) (4.67.1)\n",
            "Requirement already satisfied: typing-extensions<5,>=4.11 in /usr/local/lib/python3.11/dist-packages (from openai) (4.12.2)\n",
            "Requirement already satisfied: idna>=2.8 in /usr/local/lib/python3.11/dist-packages (from anyio<5,>=3.5.0->openai) (3.10)\n",
            "Requirement already satisfied: certifi in /usr/local/lib/python3.11/dist-packages (from httpx<1,>=0.23.0->openai) (2025.1.31)\n",
            "Requirement already satisfied: httpcore==1.* in /usr/local/lib/python3.11/dist-packages (from httpx<1,>=0.23.0->openai) (1.0.7)\n",
            "Requirement already satisfied: h11<0.15,>=0.13 in /usr/local/lib/python3.11/dist-packages (from httpcore==1.*->httpx<1,>=0.23.0->openai) (0.14.0)\n",
            "Requirement already satisfied: langsmith<0.4,>=0.1.125 in /usr/local/lib/python3.11/dist-packages (from langchain-core!=0.3.0,!=0.3.1,!=0.3.10,!=0.3.11,!=0.3.12,!=0.3.13,!=0.3.14,!=0.3.15,!=0.3.16,!=0.3.17,!=0.3.18,!=0.3.19,!=0.3.2,!=0.3.20,!=0.3.21,!=0.3.22,!=0.3.3,!=0.3.4,!=0.3.5,!=0.3.6,!=0.3.7,!=0.3.8,!=0.3.9,<0.4.0,>=0.2.43->langgraph) (0.3.8)\n",
            "Requirement already satisfied: tenacity!=8.4.0,<10.0.0,>=8.1.0 in /usr/local/lib/python3.11/dist-packages (from langchain-core!=0.3.0,!=0.3.1,!=0.3.10,!=0.3.11,!=0.3.12,!=0.3.13,!=0.3.14,!=0.3.15,!=0.3.16,!=0.3.17,!=0.3.18,!=0.3.19,!=0.3.2,!=0.3.20,!=0.3.21,!=0.3.22,!=0.3.3,!=0.3.4,!=0.3.5,!=0.3.6,!=0.3.7,!=0.3.8,!=0.3.9,<0.4.0,>=0.2.43->langgraph) (9.0.0)\n",
            "Requirement already satisfied: jsonpatch<2.0,>=1.33 in /usr/local/lib/python3.11/dist-packages (from langchain-core!=0.3.0,!=0.3.1,!=0.3.10,!=0.3.11,!=0.3.12,!=0.3.13,!=0.3.14,!=0.3.15,!=0.3.16,!=0.3.17,!=0.3.18,!=0.3.19,!=0.3.2,!=0.3.20,!=0.3.21,!=0.3.22,!=0.3.3,!=0.3.4,!=0.3.5,!=0.3.6,!=0.3.7,!=0.3.8,!=0.3.9,<0.4.0,>=0.2.43->langgraph) (1.33)\n",
            "Requirement already satisfied: PyYAML>=5.3 in /usr/local/lib/python3.11/dist-packages (from langchain-core!=0.3.0,!=0.3.1,!=0.3.10,!=0.3.11,!=0.3.12,!=0.3.13,!=0.3.14,!=0.3.15,!=0.3.16,!=0.3.17,!=0.3.18,!=0.3.19,!=0.3.2,!=0.3.20,!=0.3.21,!=0.3.22,!=0.3.3,!=0.3.4,!=0.3.5,!=0.3.6,!=0.3.7,!=0.3.8,!=0.3.9,<0.4.0,>=0.2.43->langgraph) (6.0.2)\n",
            "Requirement already satisfied: packaging<25,>=23.2 in /usr/local/lib/python3.11/dist-packages (from langchain-core!=0.3.0,!=0.3.1,!=0.3.10,!=0.3.11,!=0.3.12,!=0.3.13,!=0.3.14,!=0.3.15,!=0.3.16,!=0.3.17,!=0.3.18,!=0.3.19,!=0.3.2,!=0.3.20,!=0.3.21,!=0.3.22,!=0.3.3,!=0.3.4,!=0.3.5,!=0.3.6,!=0.3.7,!=0.3.8,!=0.3.9,<0.4.0,>=0.2.43->langgraph) (24.2)\n",
            "Requirement already satisfied: msgpack<2.0.0,>=1.1.0 in /usr/local/lib/python3.11/dist-packages (from langgraph-checkpoint<3.0.0,>=2.0.10->langgraph) (1.1.0)\n",
            "Requirement already satisfied: orjson>=3.10.1 in /usr/local/lib/python3.11/dist-packages (from langgraph-sdk<0.2.0,>=0.1.42->langgraph) (3.10.15)\n",
            "Requirement already satisfied: annotated-types>=0.6.0 in /usr/local/lib/python3.11/dist-packages (from pydantic<3,>=1.9.0->openai) (0.7.0)\n",
            "Requirement already satisfied: pydantic-core==2.27.2 in /usr/local/lib/python3.11/dist-packages (from pydantic<3,>=1.9.0->openai) (2.27.2)\n",
            "Requirement already satisfied: jsonpointer>=1.9 in /usr/local/lib/python3.11/dist-packages (from jsonpatch<2.0,>=1.33->langchain-core!=0.3.0,!=0.3.1,!=0.3.10,!=0.3.11,!=0.3.12,!=0.3.13,!=0.3.14,!=0.3.15,!=0.3.16,!=0.3.17,!=0.3.18,!=0.3.19,!=0.3.2,!=0.3.20,!=0.3.21,!=0.3.22,!=0.3.3,!=0.3.4,!=0.3.5,!=0.3.6,!=0.3.7,!=0.3.8,!=0.3.9,<0.4.0,>=0.2.43->langgraph) (3.0.0)\n",
            "Requirement already satisfied: requests<3,>=2 in /usr/local/lib/python3.11/dist-packages (from langsmith<0.4,>=0.1.125->langchain-core!=0.3.0,!=0.3.1,!=0.3.10,!=0.3.11,!=0.3.12,!=0.3.13,!=0.3.14,!=0.3.15,!=0.3.16,!=0.3.17,!=0.3.18,!=0.3.19,!=0.3.2,!=0.3.20,!=0.3.21,!=0.3.22,!=0.3.3,!=0.3.4,!=0.3.5,!=0.3.6,!=0.3.7,!=0.3.8,!=0.3.9,<0.4.0,>=0.2.43->langgraph) (2.32.3)\n",
            "Requirement already satisfied: requests-toolbelt<2.0.0,>=1.0.0 in /usr/local/lib/python3.11/dist-packages (from langsmith<0.4,>=0.1.125->langchain-core!=0.3.0,!=0.3.1,!=0.3.10,!=0.3.11,!=0.3.12,!=0.3.13,!=0.3.14,!=0.3.15,!=0.3.16,!=0.3.17,!=0.3.18,!=0.3.19,!=0.3.2,!=0.3.20,!=0.3.21,!=0.3.22,!=0.3.3,!=0.3.4,!=0.3.5,!=0.3.6,!=0.3.7,!=0.3.8,!=0.3.9,<0.4.0,>=0.2.43->langgraph) (1.0.0)\n",
            "Requirement already satisfied: zstandard<0.24.0,>=0.23.0 in /usr/local/lib/python3.11/dist-packages (from langsmith<0.4,>=0.1.125->langchain-core!=0.3.0,!=0.3.1,!=0.3.10,!=0.3.11,!=0.3.12,!=0.3.13,!=0.3.14,!=0.3.15,!=0.3.16,!=0.3.17,!=0.3.18,!=0.3.19,!=0.3.2,!=0.3.20,!=0.3.21,!=0.3.22,!=0.3.3,!=0.3.4,!=0.3.5,!=0.3.6,!=0.3.7,!=0.3.8,!=0.3.9,<0.4.0,>=0.2.43->langgraph) (0.23.0)\n",
            "Requirement already satisfied: charset-normalizer<4,>=2 in /usr/local/lib/python3.11/dist-packages (from requests<3,>=2->langsmith<0.4,>=0.1.125->langchain-core!=0.3.0,!=0.3.1,!=0.3.10,!=0.3.11,!=0.3.12,!=0.3.13,!=0.3.14,!=0.3.15,!=0.3.16,!=0.3.17,!=0.3.18,!=0.3.19,!=0.3.2,!=0.3.20,!=0.3.21,!=0.3.22,!=0.3.3,!=0.3.4,!=0.3.5,!=0.3.6,!=0.3.7,!=0.3.8,!=0.3.9,<0.4.0,>=0.2.43->langgraph) (3.4.1)\n",
            "Requirement already satisfied: urllib3<3,>=1.21.1 in /usr/local/lib/python3.11/dist-packages (from requests<3,>=2->langsmith<0.4,>=0.1.125->langchain-core!=0.3.0,!=0.3.1,!=0.3.10,!=0.3.11,!=0.3.12,!=0.3.13,!=0.3.14,!=0.3.15,!=0.3.16,!=0.3.17,!=0.3.18,!=0.3.19,!=0.3.2,!=0.3.20,!=0.3.21,!=0.3.22,!=0.3.3,!=0.3.4,!=0.3.5,!=0.3.6,!=0.3.7,!=0.3.8,!=0.3.9,<0.4.0,>=0.2.43->langgraph) (2.3.0)\n"
          ]
        }
      ],
      "source": [
        "!pip install langgraph openai"
      ]
    },
    {
      "cell_type": "code",
      "execution_count": 4,
      "metadata": {
        "id": "-I0PMgY7WEZ5"
      },
      "outputs": [],
      "source": [
        "from typing import List, Dict, Optional\n",
        "from langgraph.graph import StateGraph\n",
        "from langchain_core.runnables.graph import MermaidDrawMethod\n",
        "import os\n",
        "\n",
        "class LearningState(Dict):\n",
        "    student_name: str\n",
        "    learning_goal: str\n",
        "    topics: List[str]\n",
        "    lessons: List[str]\n",
        "    quizzes: List[Dict[str, str]]\n",
        "    scores: List[int]\n",
        "    illustrations: List[str]\n",
        "    next_steps: Optional[str]\n"
      ]
    },
    {
      "cell_type": "code",
      "source": [
        "from IPython.display import Markdown,display"
      ],
      "metadata": {
        "id": "s9sWAD_EcDe9"
      },
      "execution_count": 45,
      "outputs": []
    },
    {
      "cell_type": "code",
      "execution_count": 6,
      "metadata": {
        "id": "jnxLt61QWH9f"
      },
      "outputs": [],
      "source": [
        "os.environ[\"OPENAI_API_KEY\"] = \"\""
      ]
    },
    {
      "cell_type": "code",
      "execution_count": 7,
      "metadata": {
        "id": "4EPNBYIMWNe-"
      },
      "outputs": [],
      "source": [
        "from langchain_core.prompts import ChatPromptTemplate\n",
        "from langchain_openai import ChatOpenAI\n",
        "\n",
        "PlannerPrompt = ChatPromptTemplate.from_template(\"\"\"\n",
        "You are an AI tutor. Given the student's learning goal, generate a structured list of prerequisite two topics they should study.\n",
        "\n",
        "Student's Learning Goal: {learning_goal}\n",
        "\"\"\")\n",
        "\n",
        "PlannerAgentStructure = {\n",
        "    \"title\": \"StudyPlan\", # Changed name to remove spaces\n",
        "    \"description\": \"A structured list of study two topics for a given learning goal.\",\n",
        "    \"type\": \"object\",\n",
        "    \"properties\": {\n",
        "        \"topics\": {\n",
        "            \"type\": \"array\",\n",
        "            \"items\": {\n",
        "                \"type\": \"string\"\n",
        "            },\n",
        "            \"description\": \"A list of study topics.\"\n",
        "        }\n",
        "    },\n",
        "    \"required\": [\"topics\"]\n",
        "}\n",
        "PlannerAgent = PlannerPrompt | ChatOpenAI(model=\"gpt-4o\", temperature=0).with_structured_output(PlannerAgentStructure)\n"
      ]
    },
    {
      "cell_type": "code",
      "execution_count": 9,
      "metadata": {
        "id": "YvOWCKB6Fy8m"
      },
      "outputs": [],
      "source": [
        "res1 = PlannerAgent.invoke({\"learning_goal\":\"i want to learn deep learning\"})"
      ]
    },
    {
      "cell_type": "code",
      "execution_count": 10,
      "metadata": {
        "colab": {
          "base_uri": "https://localhost:8080/"
        },
        "id": "dImL6-NBGE-n",
        "outputId": "069954f5-46ea-4d22-8dc1-01f3d6aafe2f"
      },
      "outputs": [
        {
          "output_type": "execute_result",
          "data": {
            "text/plain": [
              "{'topics': ['Linear Algebra', 'Probability and Statistics']}"
            ]
          },
          "metadata": {},
          "execution_count": 10
        }
      ],
      "source": [
        "res1"
      ]
    },
    {
      "cell_type": "code",
      "execution_count": 8,
      "metadata": {
        "id": "3C7-I96-WS_O"
      },
      "outputs": [],
      "source": [
        "LessonPrompt = ChatPromptTemplate.from_template(\"\"\"\n",
        "You are an expert educator. Generate a 2 lines but easy-to-understand lesson for the given topic.\n",
        "\n",
        "Topic: {topic}\n",
        "\"\"\")\n",
        "\n",
        "LessonAgentStructure = {\n",
        "    \"title\": \"LessonContent\", # Changed name to remove spaces\n",
        "    \"description\": \"A detailed and easy-to-understand lesson for a given topic.\",\n",
        "    \"type\": \"object\",\n",
        "    \"properties\": {\n",
        "        \"lesson\": {\n",
        "            \"type\": \"string\",\n",
        "            \"description\": \"A structured lesson covering the topic in detail.\"\n",
        "        }\n",
        "    },\n",
        "    \"required\": [\"lesson\"]\n",
        "}\n",
        "LessonGeneratorAgent = LessonPrompt | ChatOpenAI(model=\"gpt-4o\", temperature=0).with_structured_output(LessonAgentStructure)\n"
      ]
    },
    {
      "cell_type": "code",
      "execution_count": 11,
      "metadata": {
        "id": "RwbDiy4mFraD"
      },
      "outputs": [],
      "source": [
        "res2 = LessonGeneratorAgent.invoke({\"topic\": res1})"
      ]
    },
    {
      "cell_type": "code",
      "execution_count": 12,
      "metadata": {
        "colab": {
          "base_uri": "https://localhost:8080/"
        },
        "id": "Wc524VGvGWDu",
        "outputId": "8f49e6a6-f1ce-48b6-db99-d5bb844aa6a2"
      },
      "outputs": [
        {
          "output_type": "execute_result",
          "data": {
            "text/plain": [
              "{'lesson': 'Linear Algebra: Think of linear algebra as the study of lines and planes, where you learn how to solve systems of equations and understand vector spaces.\\n\\nProbability and Statistics: Probability helps you predict the likelihood of events, while statistics involves collecting and analyzing data to make informed decisions.'}"
            ]
          },
          "metadata": {},
          "execution_count": 12
        }
      ],
      "source": [
        "res2"
      ]
    },
    {
      "cell_type": "code",
      "execution_count": 13,
      "metadata": {
        "id": "vVpro1yUW3jA"
      },
      "outputs": [],
      "source": [
        "from langchain_core.prompts import ChatPromptTemplate\n",
        "from langchain_openai import ChatOpenAI\n",
        "\n",
        "QuizPrompt = ChatPromptTemplate.from_template(\"\"\"\n",
        "Create a multiple-choice quiz with exactly 5 questions, categorized as follows:\n",
        "- 2 beginner-level questions\n",
        "- 2 intermediate-level questions\n",
        "- 1 expert-level questions\n",
        "\n",
        "Each question should have four answer choices, with only one correct answer.\n",
        "\n",
        "Lesson: {lesson}\n",
        "\"\"\")\n",
        "\n",
        "QuizAgentStructure = {\n",
        "    \"title\": \"QuizGenerator\", # Changed name to remove spaces\n",
        "    \"description\": \"Generates  a 2 beginner,2 intermediate and 1 expert multiple-choice quiz based on the given lesson.\",\n",
        "    \"type\": \"object\",\n",
        "    \"properties\": {\n",
        "        \"quizzes\": {\n",
        "            \"type\": \"array\",\n",
        "            \"description\": \"A list of multiple-choice questions.\",\n",
        "            \"items\": {\n",
        "                \"type\": \"object\",\n",
        "                \"properties\": {\n",
        "                    \"question\": {\n",
        "                        \"type\": \"string\",\n",
        "                        \"description\": \"The quiz question.\"\n",
        "                    },\n",
        "                    \"options\": {\n",
        "                        \"type\": \"array\",\n",
        "                        \"description\": \"The possible answer choices.\",\n",
        "                        \"items\": {\"type\": \"string\"}\n",
        "                    },\n",
        "                    \"answer\": {\n",
        "                        \"type\": \"string\",\n",
        "                        \"description\": \"The correct answer to the question.\"\n",
        "                    }\n",
        "                },\n",
        "                \"required\": [\"question\", \"options\", \"answer\"]\n",
        "            }\n",
        "        }\n",
        "    },\n",
        "    \"required\": [\"quizzes\"]\n",
        "}\n",
        "\n",
        "QuizGeneratorAgent = QuizPrompt | ChatOpenAI(model=\"gpt-4o\", temperature=0).with_structured_output(QuizAgentStructure)\n"
      ]
    },
    {
      "cell_type": "code",
      "execution_count": 14,
      "metadata": {
        "id": "t2Rcj_ljGkr4"
      },
      "outputs": [],
      "source": [
        "res3 = QuizGeneratorAgent.invoke({\"lesson\": res2})"
      ]
    },
    {
      "cell_type": "code",
      "execution_count": 15,
      "metadata": {
        "colab": {
          "base_uri": "https://localhost:8080/"
        },
        "id": "C3iADL1DHDeG",
        "outputId": "2f72fd0a-1139-4617-fa71-8c544d4c5e5c"
      },
      "outputs": [
        {
          "output_type": "execute_result",
          "data": {
            "text/plain": [
              "{'quizzes': [{'question': '1. Beginner: What is the primary focus of linear algebra?',\n",
              "   'options': ['A) Solving quadratic equations',\n",
              "    'B) Studying lines and planes',\n",
              "    'C) Calculating derivatives',\n",
              "    'D) Analyzing data trends'],\n",
              "   'answer': 'B) Studying lines and planes'},\n",
              "  {'question': '2. Beginner: What does probability help you determine?',\n",
              "   'options': ['A) The exact outcome of an event',\n",
              "    'B) The likelihood of an event occurring',\n",
              "    'C) The average of a data set',\n",
              "    'D) The median of a data set'],\n",
              "   'answer': 'B) The likelihood of an event occurring'},\n",
              "  {'question': '3. Intermediate: Which of the following is a key concept in vector spaces?',\n",
              "   'options': ['A) Eigenvalues',\n",
              "    'B) Derivatives',\n",
              "    'C) Mean and median',\n",
              "    'D) Probability distributions'],\n",
              "   'answer': 'A) Eigenvalues'},\n",
              "  {'question': '4. Intermediate: In statistics, what is the purpose of collecting data?',\n",
              "   'options': ['A) To predict future events',\n",
              "    'B) To solve algebraic equations',\n",
              "    'C) To make informed decisions',\n",
              "    'D) To calculate integrals'],\n",
              "   'answer': 'C) To make informed decisions'},\n",
              "  {'question': '5. Expert: Which method is commonly used to solve systems of linear equations?',\n",
              "   'options': ['A) Integration by parts',\n",
              "    'B) Gaussian elimination',\n",
              "    'C) Bayesian inference',\n",
              "    'D) Monte Carlo simulation'],\n",
              "   'answer': 'B) Gaussian elimination'}]}"
            ]
          },
          "metadata": {},
          "execution_count": 15
        }
      ],
      "source": [
        "res3"
      ]
    },
    {
      "cell_type": "code",
      "execution_count": 16,
      "metadata": {
        "id": "M-StCvHGE72r"
      },
      "outputs": [],
      "source": [
        "from langchain_core.prompts import ChatPromptTemplate\n",
        "from langchain_openai import ChatOpenAI\n",
        "\n",
        "# Prompt to generate structured notes and attach quizzes\n",
        "NoteGenerationPrompt = ChatPromptTemplate.from_template(\"\"\"\n",
        "You are a structured learning assistant. You have a well-defined lesson roadmap and corresponding quizzes for each topic.\n",
        "Your role is to create well-structured, easy-to-understand notes based on the given lesson and attach the appropriate quiz to each topic.\n",
        "\n",
        "**Lesson:** {lesson}\n",
        "**Quiz:** {quiz}\n",
        "\n",
        "Provide a detailed explanation of the lesson, key points, and any relevant examples.\n",
        "\"\"\")\n",
        "\n",
        "# Define the expected structured output for notes and quizzes\n",
        "NoteGenerationAgentStructure = {\n",
        "    \"title\": \"LessonNoteGenerator\",\n",
        "    \"description\": \"Generates well-structured notes based on the lesson and attaches a quiz to each topic.\",\n",
        "    \"type\": \"object\",\n",
        "    \"properties\": {\n",
        "        \"structured_notes\": {\n",
        "            \"type\": \"string\",\n",
        "            \"description\": \"A detailed explanation of the lesson, key points, and examples.\"\n",
        "        },\n",
        "        \"attached_quiz\": {\n",
        "            \"type\": \"array\",\n",
        "            \"items\": {\n",
        "                \"type\": \"string\"\n",
        "            },\n",
        "            \"description\": \"A list of quiz questions related to the lesson.\"\n",
        "        }\n",
        "    },\n",
        "    \"required\": [\"structured_notes\", \"attached_quiz\"]\n",
        "}\n",
        "\n",
        "# Create the agent using the modified function\n",
        "NoteGenerationAgent = NoteGenerationPrompt | ChatOpenAI(model=\"gpt-4o\", temperature=0)\n"
      ]
    },
    {
      "cell_type": "code",
      "execution_count": 17,
      "metadata": {
        "id": "MAowPXOLFEr8"
      },
      "outputs": [],
      "source": [
        "res4 = NoteGenerationAgent.invoke({\"lesson\":res2 ,\"quiz\":res3})"
      ]
    },
    {
      "cell_type": "code",
      "execution_count": 18,
      "metadata": {
        "colab": {
          "base_uri": "https://localhost:8080/",
          "height": 1000
        },
        "id": "fyZ3sX2HHgS7",
        "outputId": "a1755add-3de4-4a38-95a1-647fc47b580e"
      },
      "outputs": [
        {
          "output_type": "execute_result",
          "data": {
            "text/plain": [
              "<IPython.core.display.Markdown object>"
            ],
            "text/markdown": "### Lesson Notes: Linear Algebra and Probability & Statistics\n\n#### Linear Algebra\n\n**Overview:**\nLinear algebra is a branch of mathematics that focuses on the study of vectors, vector spaces (also known as linear spaces), linear transformations, and systems of linear equations. It is a foundational subject in mathematics with applications in various fields such as engineering, physics, computer science, and economics.\n\n**Key Concepts:**\n\n1. **Vectors and Vector Spaces:**\n   - A vector is an object that has both a magnitude and a direction. Vectors can be represented in a coordinate system as an ordered list of numbers.\n   - A vector space is a collection of vectors that can be added together and multiplied by scalars (numbers), satisfying certain axioms (e.g., associativity, commutativity).\n\n2. **Lines and Planes:**\n   - Linear algebra helps in understanding the geometry of lines and planes in space. A line can be represented as a set of points that satisfy a linear equation, while a plane can be represented by a linear equation in three dimensions.\n\n3. **Systems of Linear Equations:**\n   - A system of linear equations is a collection of one or more linear equations involving the same set of variables. The goal is to find the values of the variables that satisfy all the equations simultaneously.\n   - Methods to solve these systems include substitution, elimination, and matrix operations such as Gaussian elimination.\n\n4. **Eigenvalues and Eigenvectors:**\n   - These are key concepts in vector spaces. An eigenvector of a matrix is a non-zero vector that changes by only a scalar factor when that matrix is applied to it. The corresponding scalar is called an eigenvalue.\n\n**Example:**\nConsider the system of equations:\n\\[ 2x + 3y = 5 \\]\n\\[ 4x + 6y = 10 \\]\nThis system can be solved using Gaussian elimination to find the values of \\(x\\) and \\(y\\).\n\n#### Probability and Statistics\n\n**Overview:**\nProbability and statistics are branches of mathematics that deal with the analysis of random events and the interpretation of data. Probability provides the theoretical foundation for understanding randomness, while statistics involves the collection, analysis, interpretation, and presentation of data.\n\n**Key Concepts:**\n\n1. **Probability:**\n   - Probability is the measure of the likelihood that an event will occur. It is quantified as a number between 0 and 1, where 0 indicates impossibility and 1 indicates certainty.\n   - Basic probability concepts include events, sample spaces, and probability distributions.\n\n2. **Statistics:**\n   - Statistics involves collecting, analyzing, and interpreting data to make informed decisions. It includes descriptive statistics (summarizing data) and inferential statistics (making predictions or inferences about a population based on a sample).\n\n3. **Data Analysis:**\n   - Data analysis involves organizing and examining data to identify patterns or trends. This can include calculating measures of central tendency (mean, median, mode) and measures of variability (range, variance, standard deviation).\n\n**Example:**\nIf you flip a fair coin, the probability of getting heads is 0.5. If you collect data on the number of heads in 100 coin flips, you can use statistics to analyze the results and make inferences about the fairness of the coin.\n\n### Quiz\n\n1. **Beginner: What is the primary focus of linear algebra?**\n   - A) Solving quadratic equations\n   - B) Studying lines and planes\n   - C) Calculating derivatives\n   - D) Analyzing data trends\n   - **Answer:** B) Studying lines and planes\n\n2. **Beginner: What does probability help you determine?**\n   - A) The exact outcome of an event\n   - B) The likelihood of an event occurring\n   - C) The average of a data set\n   - D) The median of a data set\n   - **Answer:** B) The likelihood of an event occurring\n\n3. **Intermediate: Which of the following is a key concept in vector spaces?**\n   - A) Eigenvalues\n   - B) Derivatives\n   - C) Mean and median\n   - D) Probability distributions\n   - **Answer:** A) Eigenvalues\n\n4. **Intermediate: In statistics, what is the purpose of collecting data?**\n   - A) To predict future events\n   - B) To solve algebraic equations\n   - C) To make informed decisions\n   - D) To calculate integrals\n   - **Answer:** C) To make informed decisions\n\n5. **Expert: Which method is commonly used to solve systems of linear equations?**\n   - A) Integration by parts\n   - B) Gaussian elimination\n   - C) Bayesian inference\n   - D) Monte Carlo simulation\n   - **Answer:** B) Gaussian elimination"
          },
          "metadata": {},
          "execution_count": 18
        }
      ],
      "source": [
        "Markdown(res4.content)"
      ]
    },
    {
      "cell_type": "code",
      "execution_count": 49,
      "metadata": {
        "id": "1cdP8thdYYiM"
      },
      "outputs": [],
      "source": [
        "async def planner_node(state: LearningState):\n",
        "    print(\"--- [Planner Agent] ---\")\n",
        "    planner_response = await PlannerAgent.ainvoke({\"learning_goal\": state['learning_goal']})\n",
        "    return {\"topics\": planner_response['topics']}\n",
        "\n",
        "async def lesson_node(state: LearningState):\n",
        "    print(\"--- [Lesson Generator] ---\")\n",
        "    lessons = []\n",
        "    for topic in state['topics']:\n",
        "        lesson_response = await LessonGeneratorAgent.ainvoke({\"topic\": topic})\n",
        "        lessons.append(lesson_response['lesson'])\n",
        "    return {\"lessons\": lessons}\n",
        "\n",
        "async def quiz_node(state: LearningState):\n",
        "    print(\"--- [Quiz Generator] ---\")\n",
        "    quizzes = []\n",
        "    for lesson in state['lessons']:\n",
        "        quiz_response = await QuizGeneratorAgent.ainvoke({\"lesson\": lesson})\n",
        "        quizzes.append(quiz_response['quizzes'])\n",
        "    return {\"quizzes\": quizzes}\n",
        "\n",
        "async def note_node(state: LearningState):\n",
        "    print(\"--- [Note Generator] ---\")\n",
        "    lesson = state[\"lessons\"]\n",
        "    quiz = state[\"quizzes\"]\n",
        "    note_response = await NoteGenerationAgent.ainvoke({\"lesson\": lesson, \"quiz\": quiz})\n",
        "    print(display(Markdown(note_response.content)))\n",
        "    return {\"note_response\":note_response}\n",
        ""
      ]
    },
    {
      "cell_type": "code",
      "execution_count": 50,
      "metadata": {
        "id": "Edk1BXeEYwm2"
      },
      "outputs": [],
      "source": [
        "from langgraph.graph import StateGraph, START,END\n",
        "\n",
        "workflow = StateGraph(LearningState)\n",
        "\n",
        "workflow.add_node(\"planner\", planner_node)\n",
        "workflow.add_node(\"lesson\", lesson_node)\n",
        "workflow.add_node(\"quiz\", quiz_node)\n",
        "workflow.add_node(\"note\", note_node)\n",
        "\n",
        "\n",
        "# ✅ Add the missing entry point\n",
        "workflow.add_edge(START, \"planner\")\n",
        "\n",
        "workflow.add_edge(\"planner\", \"lesson\")\n",
        "workflow.add_edge(\"lesson\", \"quiz\")\n",
        "workflow.add_edge(\"quiz\", \"note\")\n",
        "workflow.add_edge(\"note\", END)\n",
        "\n",
        "\n",
        "app = workflow.compile()\n"
      ]
    },
    {
      "cell_type": "code",
      "execution_count": 31,
      "metadata": {
        "colab": {
          "base_uri": "https://localhost:8080/"
        },
        "id": "7EDEQVs_ZbON",
        "outputId": "9aa5fd82-588f-463f-ee38-afafb71417c8"
      },
      "outputs": [
        {
          "output_type": "stream",
          "name": "stdout",
          "text": [
            "Requirement already satisfied: langchain-experimental in /usr/local/lib/python3.11/dist-packages (0.3.4)\n",
            "Requirement already satisfied: langchain-community<0.4.0,>=0.3.0 in /usr/local/lib/python3.11/dist-packages (from langchain-experimental) (0.3.18)\n",
            "Requirement already satisfied: langchain-core<0.4.0,>=0.3.28 in /usr/local/lib/python3.11/dist-packages (from langchain-experimental) (0.3.37)\n",
            "Requirement already satisfied: langchain<1.0.0,>=0.3.19 in /usr/local/lib/python3.11/dist-packages (from langchain-community<0.4.0,>=0.3.0->langchain-experimental) (0.3.19)\n",
            "Requirement already satisfied: SQLAlchemy<3,>=1.4 in /usr/local/lib/python3.11/dist-packages (from langchain-community<0.4.0,>=0.3.0->langchain-experimental) (2.0.38)\n",
            "Requirement already satisfied: requests<3,>=2 in /usr/local/lib/python3.11/dist-packages (from langchain-community<0.4.0,>=0.3.0->langchain-experimental) (2.32.3)\n",
            "Requirement already satisfied: PyYAML>=5.3 in /usr/local/lib/python3.11/dist-packages (from langchain-community<0.4.0,>=0.3.0->langchain-experimental) (6.0.2)\n",
            "Requirement already satisfied: aiohttp<4.0.0,>=3.8.3 in /usr/local/lib/python3.11/dist-packages (from langchain-community<0.4.0,>=0.3.0->langchain-experimental) (3.11.12)\n",
            "Requirement already satisfied: tenacity!=8.4.0,<10,>=8.1.0 in /usr/local/lib/python3.11/dist-packages (from langchain-community<0.4.0,>=0.3.0->langchain-experimental) (9.0.0)\n",
            "Requirement already satisfied: dataclasses-json<0.7,>=0.5.7 in /usr/local/lib/python3.11/dist-packages (from langchain-community<0.4.0,>=0.3.0->langchain-experimental) (0.6.7)\n",
            "Requirement already satisfied: pydantic-settings<3.0.0,>=2.4.0 in /usr/local/lib/python3.11/dist-packages (from langchain-community<0.4.0,>=0.3.0->langchain-experimental) (2.8.0)\n",
            "Requirement already satisfied: langsmith<0.4,>=0.1.125 in /usr/local/lib/python3.11/dist-packages (from langchain-community<0.4.0,>=0.3.0->langchain-experimental) (0.3.8)\n",
            "Requirement already satisfied: httpx-sse<1.0.0,>=0.4.0 in /usr/local/lib/python3.11/dist-packages (from langchain-community<0.4.0,>=0.3.0->langchain-experimental) (0.4.0)\n",
            "Requirement already satisfied: numpy<2,>=1.26.4 in /usr/local/lib/python3.11/dist-packages (from langchain-community<0.4.0,>=0.3.0->langchain-experimental) (1.26.4)\n",
            "Requirement already satisfied: jsonpatch<2.0,>=1.33 in /usr/local/lib/python3.11/dist-packages (from langchain-core<0.4.0,>=0.3.28->langchain-experimental) (1.33)\n",
            "Requirement already satisfied: packaging<25,>=23.2 in /usr/local/lib/python3.11/dist-packages (from langchain-core<0.4.0,>=0.3.28->langchain-experimental) (24.2)\n",
            "Requirement already satisfied: typing-extensions>=4.7 in /usr/local/lib/python3.11/dist-packages (from langchain-core<0.4.0,>=0.3.28->langchain-experimental) (4.12.2)\n",
            "Requirement already satisfied: pydantic<3.0.0,>=2.5.2 in /usr/local/lib/python3.11/dist-packages (from langchain-core<0.4.0,>=0.3.28->langchain-experimental) (2.10.6)\n",
            "Requirement already satisfied: aiohappyeyeballs>=2.3.0 in /usr/local/lib/python3.11/dist-packages (from aiohttp<4.0.0,>=3.8.3->langchain-community<0.4.0,>=0.3.0->langchain-experimental) (2.4.6)\n",
            "Requirement already satisfied: aiosignal>=1.1.2 in /usr/local/lib/python3.11/dist-packages (from aiohttp<4.0.0,>=3.8.3->langchain-community<0.4.0,>=0.3.0->langchain-experimental) (1.3.2)\n",
            "Requirement already satisfied: attrs>=17.3.0 in /usr/local/lib/python3.11/dist-packages (from aiohttp<4.0.0,>=3.8.3->langchain-community<0.4.0,>=0.3.0->langchain-experimental) (25.1.0)\n",
            "Requirement already satisfied: frozenlist>=1.1.1 in /usr/local/lib/python3.11/dist-packages (from aiohttp<4.0.0,>=3.8.3->langchain-community<0.4.0,>=0.3.0->langchain-experimental) (1.5.0)\n",
            "Requirement already satisfied: multidict<7.0,>=4.5 in /usr/local/lib/python3.11/dist-packages (from aiohttp<4.0.0,>=3.8.3->langchain-community<0.4.0,>=0.3.0->langchain-experimental) (6.1.0)\n",
            "Requirement already satisfied: propcache>=0.2.0 in /usr/local/lib/python3.11/dist-packages (from aiohttp<4.0.0,>=3.8.3->langchain-community<0.4.0,>=0.3.0->langchain-experimental) (0.2.1)\n",
            "Requirement already satisfied: yarl<2.0,>=1.17.0 in /usr/local/lib/python3.11/dist-packages (from aiohttp<4.0.0,>=3.8.3->langchain-community<0.4.0,>=0.3.0->langchain-experimental) (1.18.3)\n",
            "Requirement already satisfied: marshmallow<4.0.0,>=3.18.0 in /usr/local/lib/python3.11/dist-packages (from dataclasses-json<0.7,>=0.5.7->langchain-community<0.4.0,>=0.3.0->langchain-experimental) (3.26.1)\n",
            "Requirement already satisfied: typing-inspect<1,>=0.4.0 in /usr/local/lib/python3.11/dist-packages (from dataclasses-json<0.7,>=0.5.7->langchain-community<0.4.0,>=0.3.0->langchain-experimental) (0.9.0)\n",
            "Requirement already satisfied: jsonpointer>=1.9 in /usr/local/lib/python3.11/dist-packages (from jsonpatch<2.0,>=1.33->langchain-core<0.4.0,>=0.3.28->langchain-experimental) (3.0.0)\n",
            "Requirement already satisfied: langchain-text-splitters<1.0.0,>=0.3.6 in /usr/local/lib/python3.11/dist-packages (from langchain<1.0.0,>=0.3.19->langchain-community<0.4.0,>=0.3.0->langchain-experimental) (0.3.6)\n",
            "Requirement already satisfied: httpx<1,>=0.23.0 in /usr/local/lib/python3.11/dist-packages (from langsmith<0.4,>=0.1.125->langchain-community<0.4.0,>=0.3.0->langchain-experimental) (0.28.1)\n",
            "Requirement already satisfied: orjson<4.0.0,>=3.9.14 in /usr/local/lib/python3.11/dist-packages (from langsmith<0.4,>=0.1.125->langchain-community<0.4.0,>=0.3.0->langchain-experimental) (3.10.15)\n",
            "Requirement already satisfied: requests-toolbelt<2.0.0,>=1.0.0 in /usr/local/lib/python3.11/dist-packages (from langsmith<0.4,>=0.1.125->langchain-community<0.4.0,>=0.3.0->langchain-experimental) (1.0.0)\n",
            "Requirement already satisfied: zstandard<0.24.0,>=0.23.0 in /usr/local/lib/python3.11/dist-packages (from langsmith<0.4,>=0.1.125->langchain-community<0.4.0,>=0.3.0->langchain-experimental) (0.23.0)\n",
            "Requirement already satisfied: annotated-types>=0.6.0 in /usr/local/lib/python3.11/dist-packages (from pydantic<3.0.0,>=2.5.2->langchain-core<0.4.0,>=0.3.28->langchain-experimental) (0.7.0)\n",
            "Requirement already satisfied: pydantic-core==2.27.2 in /usr/local/lib/python3.11/dist-packages (from pydantic<3.0.0,>=2.5.2->langchain-core<0.4.0,>=0.3.28->langchain-experimental) (2.27.2)\n",
            "Requirement already satisfied: python-dotenv>=0.21.0 in /usr/local/lib/python3.11/dist-packages (from pydantic-settings<3.0.0,>=2.4.0->langchain-community<0.4.0,>=0.3.0->langchain-experimental) (1.0.1)\n",
            "Requirement already satisfied: charset-normalizer<4,>=2 in /usr/local/lib/python3.11/dist-packages (from requests<3,>=2->langchain-community<0.4.0,>=0.3.0->langchain-experimental) (3.4.1)\n",
            "Requirement already satisfied: idna<4,>=2.5 in /usr/local/lib/python3.11/dist-packages (from requests<3,>=2->langchain-community<0.4.0,>=0.3.0->langchain-experimental) (3.10)\n",
            "Requirement already satisfied: urllib3<3,>=1.21.1 in /usr/local/lib/python3.11/dist-packages (from requests<3,>=2->langchain-community<0.4.0,>=0.3.0->langchain-experimental) (2.3.0)\n",
            "Requirement already satisfied: certifi>=2017.4.17 in /usr/local/lib/python3.11/dist-packages (from requests<3,>=2->langchain-community<0.4.0,>=0.3.0->langchain-experimental) (2025.1.31)\n",
            "Requirement already satisfied: greenlet!=0.4.17 in /usr/local/lib/python3.11/dist-packages (from SQLAlchemy<3,>=1.4->langchain-community<0.4.0,>=0.3.0->langchain-experimental) (3.1.1)\n",
            "Requirement already satisfied: anyio in /usr/local/lib/python3.11/dist-packages (from httpx<1,>=0.23.0->langsmith<0.4,>=0.1.125->langchain-community<0.4.0,>=0.3.0->langchain-experimental) (3.7.1)\n",
            "Requirement already satisfied: httpcore==1.* in /usr/local/lib/python3.11/dist-packages (from httpx<1,>=0.23.0->langsmith<0.4,>=0.1.125->langchain-community<0.4.0,>=0.3.0->langchain-experimental) (1.0.7)\n",
            "Requirement already satisfied: h11<0.15,>=0.13 in /usr/local/lib/python3.11/dist-packages (from httpcore==1.*->httpx<1,>=0.23.0->langsmith<0.4,>=0.1.125->langchain-community<0.4.0,>=0.3.0->langchain-experimental) (0.14.0)\n",
            "Requirement already satisfied: mypy-extensions>=0.3.0 in /usr/local/lib/python3.11/dist-packages (from typing-inspect<1,>=0.4.0->dataclasses-json<0.7,>=0.5.7->langchain-community<0.4.0,>=0.3.0->langchain-experimental) (1.0.0)\n",
            "Requirement already satisfied: sniffio>=1.1 in /usr/local/lib/python3.11/dist-packages (from anyio->httpx<1,>=0.23.0->langsmith<0.4,>=0.1.125->langchain-community<0.4.0,>=0.3.0->langchain-experimental) (1.3.1)\n"
          ]
        }
      ],
      "source": [
        "!pip install langchain-experimental # install langchain-experimental"
      ]
    },
    {
      "cell_type": "code",
      "execution_count": null,
      "metadata": {
        "id": "QlpvBEx6ZQ5X"
      },
      "outputs": [],
      "source": []
    },
    {
      "cell_type": "code",
      "execution_count": 22,
      "metadata": {
        "colab": {
          "base_uri": "https://localhost:8080/",
          "height": 548
        },
        "id": "M9e8j8XkZrHq",
        "outputId": "5e2ba601-b1cb-4ee7-c870-73731ebd63e8"
      },
      "outputs": [
        {
          "output_type": "display_data",
          "data": {
            "image/png": "[encoded data removed]",
            "text/plain": [
              "<IPython.core.display.Image object>"
            ]
          },
          "metadata": {}
        }
      ],
      "source": [
        "from langchain_core.runnables.graph import MermaidDrawMethod\n",
        "\n",
        "from IPython.display import Image\n",
        "\n",
        "display(\n",
        "    Image(\n",
        "        app.get_graph().draw_mermaid_png(\n",
        "            draw_method=MermaidDrawMethod.API,\n",
        "        )\n",
        "    )\n",
        ")"
      ]
    },
    {
      "cell_type": "code",
      "execution_count": 51,
      "metadata": {
        "colab": {
          "base_uri": "https://localhost:8080/",
          "height": 1000
        },
        "id": "tKsabI9Gcen2",
        "outputId": "37d33d1d-21a0-468d-9585-70230572583a"
      },
      "outputs": [
        {
          "output_type": "stream",
          "name": "stdout",
          "text": [
            "--- [Planner Agent] ---\n",
            "\n",
            "🔹 Current State: {'planner': {'topics': ['Introduction to Programming Concepts', 'Understanding of Basic Computer Operations']}}\n",
            "--- [Lesson Generator] ---\n",
            "\n",
            "🔹 Current State: {'lesson': {'lessons': ['Programming is like giving instructions to a computer to perform tasks, using languages like Python or Java to communicate your ideas clearly and efficiently.', 'Computers process data through input, processing, output, and storage, enabling users to perform tasks efficiently. Mastering basic operations like using a mouse, keyboard, and navigating software is essential for effective computer use.']}}\n",
            "--- [Quiz Generator] ---\n",
            "\n",
            "🔹 Current State: {'quiz': {'quizzes': [[{'question': '1. What is programming?', 'options': ['A) A way to paint pictures', 'B) Giving instructions to a computer', 'C) A type of dance', 'D) A cooking technique'], 'answer': 'B) Giving instructions to a computer'}, {'question': '2. Which of the following is a programming language?', 'options': ['A) Spanish', 'B) Python', 'C) Algebra', 'D) Geography'], 'answer': 'B) Python'}, {'question': '3. What is the primary purpose of using programming languages like Python or Java?', 'options': ['A) To create art', 'B) To communicate ideas clearly and efficiently to a computer', 'C) To write novels', 'D) To perform magic tricks'], 'answer': 'B) To communicate ideas clearly and efficiently to a computer'}, {'question': '4. Which of the following is NOT a characteristic of a good programming language?', 'options': ['A) Clarity', 'B) Efficiency', 'C) Ambiguity', 'D) Flexibility'], 'answer': 'C) Ambiguity'}, {'question': \"5. In programming, what is the significance of 'syntax'?\", 'options': ['A) It refers to the speed of the program', 'B) It is the set of rules that defines the combinations of symbols that are considered to be correctly structured programs', 'C) It is the color scheme of the code editor', 'D) It is the name of a popular programming language'], 'answer': 'B) It is the set of rules that defines the combinations of symbols that are considered to be correctly structured programs'}], [{'question': \"What is the primary function of a computer's input devices?\", 'options': ['A) To display information', 'B) To store data', 'C) To enter data into the computer', 'D) To process data'], 'answer': 'C) To enter data into the computer'}, {'question': 'Which of the following is an example of an output device?', 'options': ['A) Keyboard', 'B) Monitor', 'C) Mouse', 'D) Hard drive'], 'answer': 'B) Monitor'}, {'question': 'What is the role of the CPU in a computer?', 'options': ['A) To store data permanently', 'B) To process and execute instructions', 'C) To provide power to the computer', 'D) To display graphics'], 'answer': 'B) To process and execute instructions'}, {'question': \"Which of the following best describes the term 'software'?\", 'options': ['A) Physical components of a computer', 'B) Programs and applications that run on a computer', 'C) Devices used to input data', 'D) The main circuit board of a computer'], 'answer': 'B) Programs and applications that run on a computer'}, {'question': 'What is the significance of mastering basic computer operations?', 'options': ['A) It allows users to build their own computers', 'B) It helps users perform tasks efficiently and effectively', 'C) It enables users to write complex software programs', 'D) It is only necessary for IT professionals'], 'answer': 'B) It helps users perform tasks efficiently and effectively'}]]}}\n",
            "--- [Note Generator] ---\n"
          ]
        },
        {
          "output_type": "display_data",
          "data": {
            "text/plain": [
              "<IPython.core.display.Markdown object>"
            ],
            "text/markdown": "### Lesson Notes\n\n#### Topic 1: Understanding Programming\n\n**Definition of Programming:**\n- Programming is the process of giving instructions to a computer to perform specific tasks. It involves writing code in a language that the computer can understand and execute.\n\n**Programming Languages:**\n- Programming languages like Python and Java are used to communicate ideas clearly and efficiently to a computer. These languages have specific syntax and rules that must be followed to create functional programs.\n\n**Purpose of Programming:**\n- The primary purpose of using programming languages is to translate human ideas into a form that computers can process. This allows for the automation of tasks, solving complex problems, and creating applications that can perform a wide range of functions.\n\n**Characteristics of Good Programming Languages:**\n- Clarity: The language should be easy to read and understand.\n- Efficiency: The language should allow for the creation of programs that run quickly and use resources effectively.\n- Flexibility: The language should be adaptable to different types of tasks and problems.\n- Avoidance of Ambiguity: A good programming language should have clear and unambiguous syntax to prevent errors.\n\n**Importance of Syntax:**\n- Syntax refers to the set of rules that define the structure of a program. Correct syntax is crucial for the program to be understood and executed by the computer.\n\n**Example:**\n- Writing a simple program in Python to add two numbers:\n  ```python\n  def add_numbers(a, b):\n      return a + b\n\n  result = add_numbers(5, 3)\n  print(\"The sum is:\", result)\n  ```\n  This program defines a function to add two numbers and then calls the function with specific values, displaying the result.\n\n#### Topic 2: Basic Computer Operations\n\n**Computer Processing:**\n- Computers process data through four main stages: input, processing, output, and storage. This cycle enables users to perform tasks efficiently.\n\n**Input Devices:**\n- Devices like keyboards and mice are used to enter data into the computer. They are essential for interacting with the computer and providing it with the necessary information to process.\n\n**Output Devices:**\n- Devices such as monitors and printers display or produce the results of the computer's processing. They allow users to see and use the information processed by the computer.\n\n**Role of the CPU:**\n- The Central Processing Unit (CPU) is the brain of the computer. It processes and executes instructions, performing calculations and managing data flow within the computer.\n\n**Understanding Software:**\n- Software refers to the programs and applications that run on a computer. It is distinct from hardware, which comprises the physical components of a computer.\n\n**Importance of Mastering Basic Operations:**\n- Mastering basic operations like using a mouse, keyboard, and navigating software is essential for effective computer use. It helps users perform tasks efficiently and effectively, making technology more accessible and useful in everyday life.\n\n**Example:**\n- Using a word processor to create a document involves inputting text via a keyboard, processing the text with the software, and displaying the document on a monitor.\n\n### Quizzes\n\n#### Quiz for Topic 1: Understanding Programming\n\n1. What is programming?\n   - A) A way to paint pictures\n   - B) Giving instructions to a computer\n   - C) A type of dance\n   - D) A cooking technique\n   - **Answer:** B) Giving instructions to a computer\n\n2. Which of the following is a programming language?\n   - A) Spanish\n   - B) Python\n   - C) Algebra\n   - D) Geography\n   - **Answer:** B) Python\n\n3. What is the primary purpose of using programming languages like Python or Java?\n   - A) To create art\n   - B) To communicate ideas clearly and efficiently to a computer\n   - C) To write novels\n   - D) To perform magic tricks\n   - **Answer:** B) To communicate ideas clearly and efficiently to a computer\n\n4. Which of the following is NOT a characteristic of a good programming language?\n   - A) Clarity\n   - B) Efficiency\n   - C) Ambiguity\n   - D) Flexibility\n   - **Answer:** C) Ambiguity\n\n5. In programming, what is the significance of 'syntax'?\n   - A) It refers to the speed of the program\n   - B) It is the set of rules that defines the combinations of symbols that are considered to be correctly structured programs\n   - C) It is the color scheme of the code editor\n   - D) It is the name of a popular programming language\n   - **Answer:** B) It is the set of rules that defines the combinations of symbols that are considered to be correctly structured programs\n\n#### Quiz for Topic 2: Basic Computer Operations\n\n1. What is the primary function of a computer's input devices?\n   - A) To display information\n   - B) To store data\n   - C) To enter data into the computer\n   - D) To process data\n   - **Answer:** C) To enter data into the computer\n\n2. Which of the following is an example of an output device?\n   - A) Keyboard\n   - B) Monitor\n   - C) Mouse\n   - D) Hard drive\n   - **Answer:** B) Monitor\n\n3. What is the role of the CPU in a computer?\n   - A) To store data permanently\n   - B) To process and execute instructions\n   - C) To provide power to the computer\n   - D) To display graphics\n   - **Answer:** B) To process and execute instructions\n\n4. Which of the following best describes the term 'software'?\n   - A) Physical components of a computer\n   - B) Programs and applications that run on a computer\n   - C) Devices used to input data\n   - D) The main circuit board of a computer\n   - **Answer:** B) Programs and applications that run on a computer\n\n5. What is the significance of mastering basic computer operations?\n   - A) It allows users to build their own computers\n   - B) It helps users perform tasks efficiently and effectively\n   - C) It enables users to write complex software programs\n   - D) It is only necessary for IT professionals\n   - **Answer:** B) It helps users perform tasks efficiently and effectively"
          },
          "metadata": {}
        },
        {
          "output_type": "stream",
          "name": "stdout",
          "text": [
            "None\n",
            "\n",
            "🔹 Current State: {'note': None}\n"
          ]
        }
      ],
      "source": [
        "import asyncio\n",
        "\n",
        "async def run_workflow():\n",
        "    async for state in app.astream({\"learning_goal\": \"Learn Python basics\"}):\n",
        "        print(\"\\n🔹 Current State:\", state)\n",
        "\n",
        "await run_workflow()\n"
      ]
    },
    {
      "cell_type": "code",
      "source": [
        "import asyncio\n",
        "\n",
        "async def run_workflow():\n",
        "    async for state in app.astream({\"learning_goal\": \"I want to learn about Neural Networks in Deep Learning.\"}):\n",
        "        print(\"\\n🔹 Current State:\", state)\n",
        "\n",
        "await run_workflow()\n"
      ],
      "metadata": {
        "id": "jjCaDuLKD62q",
        "outputId": "28c5144a-3d10-465f-fc0b-a860ebe474c3",
        "colab": {
          "base_uri": "https://localhost:8080/",
          "height": 1000
        }
      },
      "execution_count": 52,
      "outputs": [
        {
          "output_type": "stream",
          "name": "stdout",
          "text": [
            "--- [Planner Agent] ---\n",
            "\n",
            "🔹 Current State: {'planner': {'topics': ['Linear Algebra', 'Probability and Statistics']}}\n",
            "--- [Lesson Generator] ---\n",
            "\n",
            "🔹 Current State: {'lesson': {'lessons': ['Linear algebra is the study of vectors, matrices, and linear transformations, which are essential tools for solving systems of linear equations and understanding geometric concepts in higher dimensions.', 'Probability helps us predict the likelihood of events, while statistics involves collecting and analyzing data to understand patterns and trends.']}}\n",
            "--- [Quiz Generator] ---\n",
            "\n",
            "🔹 Current State: {'quiz': {'quizzes': [[{'question': 'What is a vector in linear algebra?', 'options': ['A) A single number', 'B) A matrix with one row or column', 'C) A geometric shape', 'D) A type of equation'], 'answer': 'B) A matrix with one row or column'}, {'question': 'Which of the following is a common use of matrices?', 'options': ['A) Solving quadratic equations', 'B) Representing systems of linear equations', 'C) Calculating derivatives', 'D) Finding the area of a circle'], 'answer': 'B) Representing systems of linear equations'}, {'question': 'What is the determinant of a 2x2 matrix \\\\( \\\\begin{bmatrix} a & b \\\\\\\\ c & d \\\\end{bmatrix} \\\\)?', 'options': ['A) \\\\( a + d \\\\)', 'B) \\\\( ad - bc \\\\)', 'C) \\\\( ab + cd \\\\)', 'D) \\\\( a - d \\\\)'], 'answer': 'B) \\\\( ad - bc \\\\)'}, {'question': 'Which of the following statements is true about eigenvectors?', 'options': ['A) They are always orthogonal to each other', 'B) They are vectors that change direction under a linear transformation', 'C) They are vectors that do not change direction under a linear transformation', 'D) They are always unit vectors'], 'answer': 'C) They are vectors that do not change direction under a linear transformation'}, {'question': 'In linear algebra, what is the rank of a matrix?', 'options': ['A) The number of rows in the matrix', 'B) The number of columns in the matrix', 'C) The maximum number of linearly independent row vectors in the matrix', 'D) The sum of all elements in the matrix'], 'answer': 'C) The maximum number of linearly independent row vectors in the matrix'}], [{'question': 'Beginner: What is the probability of flipping a fair coin and it landing on heads?', 'options': ['A) 0.25', 'B) 0.5', 'C) 0.75', 'D) 1.0'], 'answer': 'B) 0.5'}, {'question': 'Beginner: Which of the following is an example of a statistical measure?', 'options': ['A) Rolling a die', 'B) Mean', 'C) Flipping a coin', 'D) Drawing a card'], 'answer': 'B) Mean'}, {'question': 'Intermediate: If a bag contains 3 red balls and 2 blue balls, what is the probability of drawing a red ball?', 'options': ['A) 0.2', 'B) 0.3', 'C) 0.6', 'D) 0.8'], 'answer': 'C) 0.6'}, {'question': 'Intermediate: In a survey, 60% of respondents prefer tea over coffee. If 200 people were surveyed, how many preferred tea?', 'options': ['A) 80', 'B) 100', 'C) 120', 'D) 140'], 'answer': 'C) 120'}, {'question': 'Expert: A deck of cards has 52 cards. What is the probability of drawing an Ace or a King from a shuffled deck?', 'options': ['A) 1/13', 'B) 2/13', 'C) 4/13', 'D) 8/13'], 'answer': 'C) 4/13'}]]}}\n",
            "--- [Note Generator] ---\n"
          ]
        },
        {
          "output_type": "display_data",
          "data": {
            "text/plain": [
              "<IPython.core.display.Markdown object>"
            ],
            "text/markdown": "### Lesson Notes\n\n#### Topic 1: Linear Algebra\n\n**Overview:**\nLinear algebra is a branch of mathematics that focuses on vectors, matrices, and linear transformations. These concepts are fundamental for solving systems of linear equations and understanding geometric concepts in higher dimensions.\n\n**Key Concepts:**\n\n1. **Vectors:**\n   - A vector is an entity that has both magnitude and direction. In linear algebra, vectors are often represented as matrices with one row or one column.\n   - Example: A vector in 2D space can be represented as \\([x, y]\\).\n\n2. **Matrices:**\n   - A matrix is a rectangular array of numbers arranged in rows and columns. Matrices are used to represent and solve systems of linear equations.\n   - Example: A 2x2 matrix looks like \\(\\begin{bmatrix} a & b \\\\ c & d \\end{bmatrix}\\).\n\n3. **Determinant:**\n   - The determinant is a scalar value that can be computed from the elements of a square matrix. It provides important properties of the matrix, such as whether it is invertible.\n   - Example: The determinant of a 2x2 matrix \\(\\begin{bmatrix} a & b \\\\ c & d \\end{bmatrix}\\) is calculated as \\(ad - bc\\).\n\n4. **Eigenvectors and Eigenvalues:**\n   - Eigenvectors are vectors that do not change direction under a linear transformation, although they may be scaled by a factor known as the eigenvalue.\n   - Example: If \\(A\\) is a matrix and \\(v\\) is an eigenvector, then \\(Av = \\lambda v\\), where \\(\\lambda\\) is the eigenvalue.\n\n5. **Rank:**\n   - The rank of a matrix is the maximum number of linearly independent row vectors in the matrix. It indicates the dimension of the vector space spanned by its rows or columns.\n\n**Applications:**\n- Linear algebra is widely used in computer graphics, engineering, physics, machine learning, and more.\n\n**Quiz for Linear Algebra:**\n1. What is a vector in linear algebra?\n2. Which of the following is a common use of matrices?\n3. What is the determinant of a 2x2 matrix \\(\\begin{bmatrix} a & b \\\\ c & d \\end{bmatrix}\\)?\n4. Which of the following statements is true about eigenvectors?\n5. In linear algebra, what is the rank of a matrix?\n\n---\n\n#### Topic 2: Probability and Statistics\n\n**Overview:**\nProbability and statistics are mathematical disciplines that deal with the analysis of random events and data. Probability helps predict the likelihood of events, while statistics involves collecting and analyzing data to understand patterns and trends.\n\n**Key Concepts:**\n\n1. **Probability:**\n   - Probability is a measure of the likelihood that an event will occur. It ranges from 0 (impossible event) to 1 (certain event).\n   - Example: The probability of flipping a fair coin and it landing on heads is 0.5.\n\n2. **Statistical Measures:**\n   - Statistical measures are used to summarize and describe data. Common measures include mean, median, mode, variance, and standard deviation.\n   - Example: The mean is the average of a set of numbers.\n\n3. **Probability in Practice:**\n   - Probability is used to calculate the likelihood of various outcomes in different scenarios, such as drawing a card from a deck or rolling a die.\n   - Example: The probability of drawing a red ball from a bag containing 3 red balls and 2 blue balls is 0.6.\n\n4. **Data Analysis:**\n   - Statistics involves collecting, analyzing, interpreting, and presenting data. It helps in making informed decisions based on data trends.\n   - Example: If 60% of survey respondents prefer tea over coffee, and 200 people were surveyed, 120 people preferred tea.\n\n5. **Advanced Probability:**\n   - More complex probability problems involve combinations and permutations, such as calculating the probability of drawing an Ace or a King from a deck of cards.\n\n**Quiz for Probability and Statistics:**\n1. Beginner: What is the probability of flipping a fair coin and it landing on heads?\n2. Beginner: Which of the following is an example of a statistical measure?\n3. Intermediate: If a bag contains 3 red balls and 2 blue balls, what is the probability of drawing a red ball?\n4. Intermediate: In a survey, 60% of respondents prefer tea over coffee. If 200 people were surveyed, how many preferred tea?\n5. Expert: A deck of cards has 52 cards. What is the probability of drawing an Ace or a King from a shuffled deck?"
          },
          "metadata": {}
        },
        {
          "output_type": "stream",
          "name": "stdout",
          "text": [
            "None\n",
            "\n",
            "🔹 Current State: {'note': None}\n"
          ]
        }
      ]
    },
    {
      "cell_type": "code",
      "execution_count": null,
      "metadata": {
        "id": "CNy8uefviUnh"
      },
      "outputs": [],
      "source": []
    }
  ],
  "metadata": {
    "accelerator": "GPU",
    "colab": {
      "gpuType": "T4",
      "provenance": []
    },
    "kernelspec": {
      "display_name": "Python 3",
      "name": "python3"
    },
    "language_info": {
      "name": "python"
    }
  },
  "nbformat": 4,
  "nbformat_minor": 0
}